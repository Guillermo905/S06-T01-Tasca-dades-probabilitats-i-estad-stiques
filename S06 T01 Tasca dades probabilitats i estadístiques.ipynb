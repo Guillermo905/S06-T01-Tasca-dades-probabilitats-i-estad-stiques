{
 "cells": [
  {
   "cell_type": "markdown",
   "id": "1ec14e7c",
   "metadata": {},
   "source": [
    "# Nivell 1\n",
    "\n",
    "## Exercici 1\n",
    "\n",
    "Agafa un conjunt de dades de tema esportiu que t'agradi i selecciona un atribut del conjunt de dades. Calcula la moda, la mediana, la desviació estàndard i la mitjana aritmètica. \n",
    "\n"
   ]
  },
  {
   "cell_type": "markdown",
   "id": "7cb2a553",
   "metadata": {},
   "source": [
    "Al igual que en l'exercici anterior es treballarà amb dades de pluviometria acumulada provinent de metecat de la ciutat de Barcelona en el següent punt cartogràfic:\n",
    "* LAT (º): 41,41864 \n",
    "* LONG (º): 2,12379\n",
    "* ALT (m): 411\n",
    "\n",
    "El dataframe mostra les plujes acumulades en mm per a tots els mesos de cada any des de l'any 1786 fins el 2021. En el cas del 1786 els 6 primers mesos de l'any son NAs i per això mostren un valor negatiu. Per tant, primer s'acabarà d'assegurar que no hi ha més NAs."
   ]
  },
  {
   "cell_type": "code",
   "execution_count": 1,
   "id": "cadd8c4a",
   "metadata": {},
   "outputs": [],
   "source": [
    "import pandas as pd\n",
    "import numpy as np\n",
    "import matplotlib.pyplot as plt\n",
    "import seaborn as sns"
   ]
  },
  {
   "cell_type": "code",
   "execution_count": 2,
   "id": "7479088c",
   "metadata": {},
   "outputs": [],
   "source": [
    "pluvi =  pluvi = pd.read_csv('C:/Users/Guillermo/Desktop/Curs Data Scientist/Sprint 5/Barcelona_PPT_m_1786_2021.txt',\n",
    "                   sep='\\t')"
   ]
  },
  {
   "cell_type": "code",
   "execution_count": 29,
   "id": "c82d52d2",
   "metadata": {},
   "outputs": [
    {
     "name": "stdout",
     "output_type": "stream",
     "text": [
      "<class 'pandas.core.frame.DataFrame'>\n",
      "RangeIndex: 236 entries, 0 to 235\n",
      "Data columns (total 13 columns):\n",
      " #   Column  Non-Null Count  Dtype  \n",
      "---  ------  --------------  -----  \n",
      " 0   ANY     236 non-null    int64  \n",
      " 1   G       236 non-null    float64\n",
      " 2   F       236 non-null    float64\n",
      " 3   M       236 non-null    float64\n",
      " 4   A       236 non-null    float64\n",
      " 5   M.1     236 non-null    float64\n",
      " 6   J       236 non-null    float64\n",
      " 7   J.1     236 non-null    float64\n",
      " 8   A.1     236 non-null    float64\n",
      " 9   S       236 non-null    float64\n",
      " 10  O       236 non-null    float64\n",
      " 11  N       236 non-null    float64\n",
      " 12  D       236 non-null    float64\n",
      "dtypes: float64(12), int64(1)\n",
      "memory usage: 24.1 KB\n"
     ]
    }
   ],
   "source": [
    "pluvi.info()"
   ]
  },
  {
   "cell_type": "code",
   "execution_count": 5,
   "id": "e524119c",
   "metadata": {},
   "outputs": [
    {
     "data": {
      "text/html": [
       "<div>\n",
       "<style scoped>\n",
       "    .dataframe tbody tr th:only-of-type {\n",
       "        vertical-align: middle;\n",
       "    }\n",
       "\n",
       "    .dataframe tbody tr th {\n",
       "        vertical-align: top;\n",
       "    }\n",
       "\n",
       "    .dataframe thead th {\n",
       "        text-align: right;\n",
       "    }\n",
       "</style>\n",
       "<table border=\"1\" class=\"dataframe\">\n",
       "  <thead>\n",
       "    <tr style=\"text-align: right;\">\n",
       "      <th></th>\n",
       "      <th>ANY</th>\n",
       "      <th>G</th>\n",
       "      <th>F</th>\n",
       "      <th>M</th>\n",
       "      <th>A</th>\n",
       "      <th>M.1</th>\n",
       "      <th>J</th>\n",
       "      <th>J.1</th>\n",
       "      <th>A.1</th>\n",
       "      <th>S</th>\n",
       "      <th>O</th>\n",
       "      <th>N</th>\n",
       "      <th>D</th>\n",
       "    </tr>\n",
       "  </thead>\n",
       "  <tbody>\n",
       "    <tr>\n",
       "      <th>0</th>\n",
       "      <td>1786</td>\n",
       "      <td>-999.9</td>\n",
       "      <td>-999.9</td>\n",
       "      <td>-999.9</td>\n",
       "      <td>-999.9</td>\n",
       "      <td>-999.9</td>\n",
       "      <td>-999.9</td>\n",
       "      <td>6.8</td>\n",
       "      <td>52.1</td>\n",
       "      <td>62.0</td>\n",
       "      <td>57.0</td>\n",
       "      <td>195.8</td>\n",
       "      <td>114.1</td>\n",
       "    </tr>\n",
       "    <tr>\n",
       "      <th>1</th>\n",
       "      <td>1787</td>\n",
       "      <td>136.4</td>\n",
       "      <td>27.4</td>\n",
       "      <td>44.6</td>\n",
       "      <td>76.9</td>\n",
       "      <td>0.0</td>\n",
       "      <td>29.8</td>\n",
       "      <td>34.7</td>\n",
       "      <td>14.9</td>\n",
       "      <td>205.8</td>\n",
       "      <td>12.4</td>\n",
       "      <td>42.2</td>\n",
       "      <td>0.0</td>\n",
       "    </tr>\n",
       "    <tr>\n",
       "      <th>2</th>\n",
       "      <td>1788</td>\n",
       "      <td>9.9</td>\n",
       "      <td>14.9</td>\n",
       "      <td>32.2</td>\n",
       "      <td>12.4</td>\n",
       "      <td>7.5</td>\n",
       "      <td>146.3</td>\n",
       "      <td>59.4</td>\n",
       "      <td>29.8</td>\n",
       "      <td>123.9</td>\n",
       "      <td>163.6</td>\n",
       "      <td>106.6</td>\n",
       "      <td>22.3</td>\n",
       "    </tr>\n",
       "    <tr>\n",
       "      <th>3</th>\n",
       "      <td>1789</td>\n",
       "      <td>12.4</td>\n",
       "      <td>12.4</td>\n",
       "      <td>23.6</td>\n",
       "      <td>9.9</td>\n",
       "      <td>32.2</td>\n",
       "      <td>9.9</td>\n",
       "      <td>6.3</td>\n",
       "      <td>69.4</td>\n",
       "      <td>18.7</td>\n",
       "      <td>52.1</td>\n",
       "      <td>18.7</td>\n",
       "      <td>76.9</td>\n",
       "    </tr>\n",
       "    <tr>\n",
       "      <th>4</th>\n",
       "      <td>1790</td>\n",
       "      <td>44.6</td>\n",
       "      <td>1.2</td>\n",
       "      <td>188.5</td>\n",
       "      <td>74.4</td>\n",
       "      <td>44.7</td>\n",
       "      <td>39.7</td>\n",
       "      <td>65.7</td>\n",
       "      <td>32.3</td>\n",
       "      <td>71.9</td>\n",
       "      <td>205.8</td>\n",
       "      <td>72.0</td>\n",
       "      <td>14.9</td>\n",
       "    </tr>\n",
       "  </tbody>\n",
       "</table>\n",
       "</div>"
      ],
      "text/plain": [
       "    ANY      G      F      M      A    M.1      J   J.1   A.1      S      O  \\\n",
       "0  1786 -999.9 -999.9 -999.9 -999.9 -999.9 -999.9   6.8  52.1   62.0   57.0   \n",
       "1  1787  136.4   27.4   44.6   76.9    0.0   29.8  34.7  14.9  205.8   12.4   \n",
       "2  1788    9.9   14.9   32.2   12.4    7.5  146.3  59.4  29.8  123.9  163.6   \n",
       "3  1789   12.4   12.4   23.6    9.9   32.2    9.9   6.3  69.4   18.7   52.1   \n",
       "4  1790   44.6    1.2  188.5   74.4   44.7   39.7  65.7  32.3   71.9  205.8   \n",
       "\n",
       "       N      D  \n",
       "0  195.8  114.1  \n",
       "1   42.2    0.0  \n",
       "2  106.6   22.3  \n",
       "3   18.7   76.9  \n",
       "4   72.0   14.9  "
      ]
     },
     "execution_count": 5,
     "metadata": {},
     "output_type": "execute_result"
    }
   ],
   "source": [
    "pluvi.head()"
   ]
  },
  {
   "cell_type": "code",
   "execution_count": 6,
   "id": "aacfa577",
   "metadata": {},
   "outputs": [
    {
     "data": {
      "text/html": [
       "<div>\n",
       "<style scoped>\n",
       "    .dataframe tbody tr th:only-of-type {\n",
       "        vertical-align: middle;\n",
       "    }\n",
       "\n",
       "    .dataframe tbody tr th {\n",
       "        vertical-align: top;\n",
       "    }\n",
       "\n",
       "    .dataframe thead th {\n",
       "        text-align: right;\n",
       "    }\n",
       "</style>\n",
       "<table border=\"1\" class=\"dataframe\">\n",
       "  <thead>\n",
       "    <tr style=\"text-align: right;\">\n",
       "      <th></th>\n",
       "      <th>ANY</th>\n",
       "      <th>G</th>\n",
       "      <th>F</th>\n",
       "      <th>M</th>\n",
       "      <th>A</th>\n",
       "      <th>M.1</th>\n",
       "      <th>J</th>\n",
       "      <th>J.1</th>\n",
       "      <th>A.1</th>\n",
       "      <th>S</th>\n",
       "      <th>O</th>\n",
       "      <th>N</th>\n",
       "      <th>D</th>\n",
       "    </tr>\n",
       "  </thead>\n",
       "  <tbody>\n",
       "    <tr>\n",
       "      <th>231</th>\n",
       "      <td>2017</td>\n",
       "      <td>32.0</td>\n",
       "      <td>31.2</td>\n",
       "      <td>136.4</td>\n",
       "      <td>48.1</td>\n",
       "      <td>20.4</td>\n",
       "      <td>25.9</td>\n",
       "      <td>7.2</td>\n",
       "      <td>17.4</td>\n",
       "      <td>53.3</td>\n",
       "      <td>128.2</td>\n",
       "      <td>15.2</td>\n",
       "      <td>3.1</td>\n",
       "    </tr>\n",
       "    <tr>\n",
       "      <th>232</th>\n",
       "      <td>2018</td>\n",
       "      <td>63.6</td>\n",
       "      <td>104.6</td>\n",
       "      <td>112.5</td>\n",
       "      <td>83.0</td>\n",
       "      <td>30.3</td>\n",
       "      <td>53.1</td>\n",
       "      <td>51.5</td>\n",
       "      <td>36.5</td>\n",
       "      <td>44.4</td>\n",
       "      <td>201.9</td>\n",
       "      <td>201.8</td>\n",
       "      <td>4.8</td>\n",
       "    </tr>\n",
       "    <tr>\n",
       "      <th>233</th>\n",
       "      <td>2019</td>\n",
       "      <td>18.2</td>\n",
       "      <td>4.6</td>\n",
       "      <td>0.3</td>\n",
       "      <td>36.2</td>\n",
       "      <td>109.0</td>\n",
       "      <td>19.3</td>\n",
       "      <td>75.8</td>\n",
       "      <td>23.1</td>\n",
       "      <td>71.5</td>\n",
       "      <td>83.2</td>\n",
       "      <td>39.4</td>\n",
       "      <td>119.2</td>\n",
       "    </tr>\n",
       "    <tr>\n",
       "      <th>234</th>\n",
       "      <td>2020</td>\n",
       "      <td>89.3</td>\n",
       "      <td>2.8</td>\n",
       "      <td>61.6</td>\n",
       "      <td>258.7</td>\n",
       "      <td>29.2</td>\n",
       "      <td>69.1</td>\n",
       "      <td>23.1</td>\n",
       "      <td>12.4</td>\n",
       "      <td>60.2</td>\n",
       "      <td>23.1</td>\n",
       "      <td>52.5</td>\n",
       "      <td>41.5</td>\n",
       "    </tr>\n",
       "    <tr>\n",
       "      <th>235</th>\n",
       "      <td>2021</td>\n",
       "      <td>26.2</td>\n",
       "      <td>26.5</td>\n",
       "      <td>7.7</td>\n",
       "      <td>62.7</td>\n",
       "      <td>13.4</td>\n",
       "      <td>7.8</td>\n",
       "      <td>9.0</td>\n",
       "      <td>8.3</td>\n",
       "      <td>23.3</td>\n",
       "      <td>63.0</td>\n",
       "      <td>75.9</td>\n",
       "      <td>3.8</td>\n",
       "    </tr>\n",
       "  </tbody>\n",
       "</table>\n",
       "</div>"
      ],
      "text/plain": [
       "      ANY     G      F      M      A    M.1     J   J.1   A.1     S      O  \\\n",
       "231  2017  32.0   31.2  136.4   48.1   20.4  25.9   7.2  17.4  53.3  128.2   \n",
       "232  2018  63.6  104.6  112.5   83.0   30.3  53.1  51.5  36.5  44.4  201.9   \n",
       "233  2019  18.2    4.6    0.3   36.2  109.0  19.3  75.8  23.1  71.5   83.2   \n",
       "234  2020  89.3    2.8   61.6  258.7   29.2  69.1  23.1  12.4  60.2   23.1   \n",
       "235  2021  26.2   26.5    7.7   62.7   13.4   7.8   9.0   8.3  23.3   63.0   \n",
       "\n",
       "         N      D  \n",
       "231   15.2    3.1  \n",
       "232  201.8    4.8  \n",
       "233   39.4  119.2  \n",
       "234   52.5   41.5  \n",
       "235   75.9    3.8  "
      ]
     },
     "execution_count": 6,
     "metadata": {},
     "output_type": "execute_result"
    }
   ],
   "source": [
    "pluvi.tail()"
   ]
  },
  {
   "cell_type": "code",
   "execution_count": 4,
   "id": "db41b48c",
   "metadata": {},
   "outputs": [
    {
     "data": {
      "text/plain": [
       "(236, 13)"
      ]
     },
     "execution_count": 4,
     "metadata": {},
     "output_type": "execute_result"
    }
   ],
   "source": [
    "pluvi.shape"
   ]
  },
  {
   "cell_type": "code",
   "execution_count": 8,
   "id": "83c505d4",
   "metadata": {
    "scrolled": true
   },
   "outputs": [
    {
     "data": {
      "text/plain": [
       "ANY    0\n",
       "G      0\n",
       "F      0\n",
       "M      0\n",
       "A      0\n",
       "M.1    0\n",
       "J      0\n",
       "J.1    0\n",
       "A.1    0\n",
       "S      0\n",
       "O      0\n",
       "N      0\n",
       "D      0\n",
       "dtype: int64"
      ]
     },
     "execution_count": 8,
     "metadata": {},
     "output_type": "execute_result"
    }
   ],
   "source": [
    "pluvi.isna().sum()"
   ]
  },
  {
   "cell_type": "markdown",
   "id": "2351d11c",
   "metadata": {},
   "source": [
    "Com els NAs en la taula estan representats com -999.9 es mirarà en quins anys es dona aquest valor"
   ]
  },
  {
   "cell_type": "code",
   "execution_count": 14,
   "id": "83171ce5",
   "metadata": {},
   "outputs": [],
   "source": [
    "names = pluvi.columns"
   ]
  },
  {
   "cell_type": "code",
   "execution_count": 30,
   "id": "e32d76fd",
   "metadata": {},
   "outputs": [
    {
     "name": "stdout",
     "output_type": "stream",
     "text": [
      "Empty DataFrame\n",
      "Columns: [ANY, G, F, M, A, M.1, J, J.1, A.1, S, O, N, D]\n",
      "Index: []\n",
      "    ANY      G      F      M      A    M.1      J  J.1   A.1     S     O  \\\n",
      "0  1786 -999.9 -999.9 -999.9 -999.9 -999.9 -999.9  6.8  52.1  62.0  57.0   \n",
      "\n",
      "       N      D  \n",
      "0  195.8  114.1  \n",
      "    ANY      G      F      M      A    M.1      J  J.1   A.1     S     O  \\\n",
      "0  1786 -999.9 -999.9 -999.9 -999.9 -999.9 -999.9  6.8  52.1  62.0  57.0   \n",
      "\n",
      "       N      D  \n",
      "0  195.8  114.1  \n",
      "    ANY      G      F      M      A    M.1      J  J.1   A.1     S     O  \\\n",
      "0  1786 -999.9 -999.9 -999.9 -999.9 -999.9 -999.9  6.8  52.1  62.0  57.0   \n",
      "\n",
      "       N      D  \n",
      "0  195.8  114.1  \n",
      "    ANY      G      F      M      A    M.1      J  J.1   A.1     S     O  \\\n",
      "0  1786 -999.9 -999.9 -999.9 -999.9 -999.9 -999.9  6.8  52.1  62.0  57.0   \n",
      "\n",
      "       N      D  \n",
      "0  195.8  114.1  \n",
      "    ANY      G      F      M      A    M.1      J  J.1   A.1     S     O  \\\n",
      "0  1786 -999.9 -999.9 -999.9 -999.9 -999.9 -999.9  6.8  52.1  62.0  57.0   \n",
      "\n",
      "       N      D  \n",
      "0  195.8  114.1  \n",
      "    ANY      G      F      M      A    M.1      J  J.1   A.1     S     O  \\\n",
      "0  1786 -999.9 -999.9 -999.9 -999.9 -999.9 -999.9  6.8  52.1  62.0  57.0   \n",
      "\n",
      "       N      D  \n",
      "0  195.8  114.1  \n",
      "Empty DataFrame\n",
      "Columns: [ANY, G, F, M, A, M.1, J, J.1, A.1, S, O, N, D]\n",
      "Index: []\n",
      "Empty DataFrame\n",
      "Columns: [ANY, G, F, M, A, M.1, J, J.1, A.1, S, O, N, D]\n",
      "Index: []\n",
      "Empty DataFrame\n",
      "Columns: [ANY, G, F, M, A, M.1, J, J.1, A.1, S, O, N, D]\n",
      "Index: []\n",
      "Empty DataFrame\n",
      "Columns: [ANY, G, F, M, A, M.1, J, J.1, A.1, S, O, N, D]\n",
      "Index: []\n",
      "Empty DataFrame\n",
      "Columns: [ANY, G, F, M, A, M.1, J, J.1, A.1, S, O, N, D]\n",
      "Index: []\n",
      "Empty DataFrame\n",
      "Columns: [ANY, G, F, M, A, M.1, J, J.1, A.1, S, O, N, D]\n",
      "Index: []\n"
     ]
    }
   ],
   "source": [
    "for i in names:\n",
    "    print(pluvi[pluvi[i]==-999.9])\n",
    "        \n",
    "    "
   ]
  },
  {
   "cell_type": "markdown",
   "id": "5e46a72e",
   "metadata": {},
   "source": [
    "Només en l'any 1786 hi ha NAs com a -999.9. Per tant, per poder comparar tots els mesos l'eliminarem del registre."
   ]
  },
  {
   "cell_type": "code",
   "execution_count": 4,
   "id": "599decd7",
   "metadata": {},
   "outputs": [],
   "source": [
    " plu2 = pluvi.iloc[1:,]"
   ]
  },
  {
   "cell_type": "code",
   "execution_count": 38,
   "id": "6810e4e9",
   "metadata": {},
   "outputs": [
    {
     "name": "stdout",
     "output_type": "stream",
     "text": [
      "(236, 13)\n",
      "(235, 13)\n"
     ]
    }
   ],
   "source": [
    "#confirmene que la eliminació és correcte\n",
    "print(pluvi.shape)\n",
    "print(plu2.shape)"
   ]
  },
  {
   "cell_type": "code",
   "execution_count": 39,
   "id": "f0a8900e",
   "metadata": {},
   "outputs": [
    {
     "data": {
      "text/html": [
       "<div>\n",
       "<style scoped>\n",
       "    .dataframe tbody tr th:only-of-type {\n",
       "        vertical-align: middle;\n",
       "    }\n",
       "\n",
       "    .dataframe tbody tr th {\n",
       "        vertical-align: top;\n",
       "    }\n",
       "\n",
       "    .dataframe thead th {\n",
       "        text-align: right;\n",
       "    }\n",
       "</style>\n",
       "<table border=\"1\" class=\"dataframe\">\n",
       "  <thead>\n",
       "    <tr style=\"text-align: right;\">\n",
       "      <th></th>\n",
       "      <th>ANY</th>\n",
       "      <th>G</th>\n",
       "      <th>F</th>\n",
       "      <th>M</th>\n",
       "      <th>A</th>\n",
       "      <th>M.1</th>\n",
       "      <th>J</th>\n",
       "      <th>J.1</th>\n",
       "      <th>A.1</th>\n",
       "      <th>S</th>\n",
       "      <th>O</th>\n",
       "      <th>N</th>\n",
       "      <th>D</th>\n",
       "    </tr>\n",
       "  </thead>\n",
       "  <tbody>\n",
       "    <tr>\n",
       "      <th>1</th>\n",
       "      <td>1787</td>\n",
       "      <td>136.4</td>\n",
       "      <td>27.4</td>\n",
       "      <td>44.6</td>\n",
       "      <td>76.9</td>\n",
       "      <td>0.0</td>\n",
       "      <td>29.8</td>\n",
       "      <td>34.7</td>\n",
       "      <td>14.9</td>\n",
       "      <td>205.8</td>\n",
       "      <td>12.4</td>\n",
       "      <td>42.2</td>\n",
       "      <td>0.0</td>\n",
       "    </tr>\n",
       "    <tr>\n",
       "      <th>2</th>\n",
       "      <td>1788</td>\n",
       "      <td>9.9</td>\n",
       "      <td>14.9</td>\n",
       "      <td>32.2</td>\n",
       "      <td>12.4</td>\n",
       "      <td>7.5</td>\n",
       "      <td>146.3</td>\n",
       "      <td>59.4</td>\n",
       "      <td>29.8</td>\n",
       "      <td>123.9</td>\n",
       "      <td>163.6</td>\n",
       "      <td>106.6</td>\n",
       "      <td>22.3</td>\n",
       "    </tr>\n",
       "    <tr>\n",
       "      <th>3</th>\n",
       "      <td>1789</td>\n",
       "      <td>12.4</td>\n",
       "      <td>12.4</td>\n",
       "      <td>23.6</td>\n",
       "      <td>9.9</td>\n",
       "      <td>32.2</td>\n",
       "      <td>9.9</td>\n",
       "      <td>6.3</td>\n",
       "      <td>69.4</td>\n",
       "      <td>18.7</td>\n",
       "      <td>52.1</td>\n",
       "      <td>18.7</td>\n",
       "      <td>76.9</td>\n",
       "    </tr>\n",
       "    <tr>\n",
       "      <th>4</th>\n",
       "      <td>1790</td>\n",
       "      <td>44.6</td>\n",
       "      <td>1.2</td>\n",
       "      <td>188.5</td>\n",
       "      <td>74.4</td>\n",
       "      <td>44.7</td>\n",
       "      <td>39.7</td>\n",
       "      <td>65.7</td>\n",
       "      <td>32.3</td>\n",
       "      <td>71.9</td>\n",
       "      <td>205.8</td>\n",
       "      <td>72.0</td>\n",
       "      <td>14.9</td>\n",
       "    </tr>\n",
       "    <tr>\n",
       "      <th>5</th>\n",
       "      <td>1791</td>\n",
       "      <td>9.9</td>\n",
       "      <td>34.7</td>\n",
       "      <td>9.9</td>\n",
       "      <td>31.1</td>\n",
       "      <td>148.8</td>\n",
       "      <td>2.5</td>\n",
       "      <td>1.2</td>\n",
       "      <td>1.2</td>\n",
       "      <td>119.0</td>\n",
       "      <td>89.2</td>\n",
       "      <td>109.1</td>\n",
       "      <td>34.7</td>\n",
       "    </tr>\n",
       "  </tbody>\n",
       "</table>\n",
       "</div>"
      ],
      "text/plain": [
       "    ANY      G     F      M     A    M.1      J   J.1   A.1      S      O  \\\n",
       "1  1787  136.4  27.4   44.6  76.9    0.0   29.8  34.7  14.9  205.8   12.4   \n",
       "2  1788    9.9  14.9   32.2  12.4    7.5  146.3  59.4  29.8  123.9  163.6   \n",
       "3  1789   12.4  12.4   23.6   9.9   32.2    9.9   6.3  69.4   18.7   52.1   \n",
       "4  1790   44.6   1.2  188.5  74.4   44.7   39.7  65.7  32.3   71.9  205.8   \n",
       "5  1791    9.9  34.7    9.9  31.1  148.8    2.5   1.2   1.2  119.0   89.2   \n",
       "\n",
       "       N     D  \n",
       "1   42.2   0.0  \n",
       "2  106.6  22.3  \n",
       "3   18.7  76.9  \n",
       "4   72.0  14.9  \n",
       "5  109.1  34.7  "
      ]
     },
     "execution_count": 39,
     "metadata": {},
     "output_type": "execute_result"
    }
   ],
   "source": [
    "plu2.head()"
   ]
  },
  {
   "cell_type": "markdown",
   "id": "9694ebd9",
   "metadata": {},
   "source": [
    "A continuació es passa a calcular la moda, la mediana, la desviació estàndard i la mitjana aritmètica del mesos de setembre i agost, ja que el primer és l'inici de la tardor i tradicionalment plou. Mentre que l'agost sol ser el mes més sec de l'any.\n",
    "\n",
    "Com falta la moda s'importa la llibreria statistics."
   ]
  },
  {
   "cell_type": "code",
   "execution_count": 58,
   "id": "62daaed1",
   "metadata": {},
   "outputs": [
    {
     "name": "stdout",
     "output_type": "stream",
     "text": [
      "['Counter', 'Decimal', 'Fraction', 'NormalDist', 'StatisticsError', '__all__', '__builtins__', '__cached__', '__doc__', '__file__', '__loader__', '__name__', '__package__', '__spec__', '_coerce', '_convert', '_exact_ratio', '_fail_neg', '_find_lteq', '_find_rteq', '_isfinite', '_normal_dist_inv_cdf', '_ss', '_sum', 'bisect_left', 'bisect_right', 'erf', 'exp', 'fabs', 'fmean', 'fsum', 'geometric_mean', 'groupby', 'harmonic_mean', 'hypot', 'itemgetter', 'log', 'math', 'mean', 'median', 'median_grouped', 'median_high', 'median_low', 'mode', 'multimode', 'numbers', 'pstdev', 'pvariance', 'quantiles', 'random', 'sqrt', 'stdev', 'tau', 'variance']\n"
     ]
    }
   ],
   "source": [
    "import statistics as stat\n",
    "print(dir(stat))"
   ]
  },
  {
   "cell_type": "code",
   "execution_count": 44,
   "id": "cdafb14d",
   "metadata": {},
   "outputs": [],
   "source": [
    "a = ['A.1', 'S']"
   ]
  },
  {
   "cell_type": "code",
   "execution_count": 60,
   "id": "a3532a22",
   "metadata": {},
   "outputs": [
    {
     "name": "stdout",
     "output_type": "stream",
     "text": [
      "mean:\n",
      " A.1 39.13702127659572\n",
      "median:\n",
      " A.1 29.8\n",
      "std:\n",
      " A.1 39.13702127659572\n",
      "moda:\n",
      " A.1 0.0\n",
      "mean:\n",
      " S 78.84723404255314\n",
      "median:\n",
      " S 68.4\n",
      "std:\n",
      " S 78.84723404255314\n",
      "moda:\n",
      " S 101.6\n"
     ]
    }
   ],
   "source": [
    "for i in a:\n",
    "    print('mean:\\n', i, plu2[i].mean())\n",
    "    print('median:\\n', i, plu2[i].median())\n",
    "    print('std:\\n', i, plu2[i].mean())\n",
    "    print('moda:\\n', i, stat.mode(plu2[i]))\n",
    "    "
   ]
  },
  {
   "cell_type": "markdown",
   "id": "3bada72f",
   "metadata": {},
   "source": [
    "Dels valors anteriors podem extreure, tal com era previst, que a l'agost plou menys que al setembre. A més, la dispersió de la pluviometria en relació a la mitja és molt més gran durant el mes de setembre que l'agost. Per un altre costat, la moda surt molt diferent en totes dues estacions, sent a l'agost de 0 mm i al setembre de 101.6 mm.  Tot i les diferències que hi ha, és curiós que la distància entre la mitja i la mitjana sigui semblant en totes dues estacions."
   ]
  },
  {
   "cell_type": "markdown",
   "id": "10c94fd5",
   "metadata": {},
   "source": [
    "Per tant, es graficarà un boxplot per a cada mes i la mitja es representarà amb una línia vermella."
   ]
  },
  {
   "cell_type": "code",
   "execution_count": 26,
   "id": "9aa0beb5",
   "metadata": {},
   "outputs": [
    {
     "data": {
      "image/png": "[encoded data removed]",
      "text/plain": [
       "<Figure size 432x288 with 2 Axes>"
      ]
     },
     "metadata": {},
     "output_type": "display_data"
    }
   ],
   "source": [
    "sns.set()\n",
    "f, ax = plt.subplots(1, 2, sharey=True)\n",
    "sns.boxplot( y= plu2['S'], orient = 'v')\n",
    "plt.axhline(plu2['S'].mean(), color = 'red')\n",
    "plt.xlabel('S')\n",
    "plt.ylabel(' ')\n",
    "plt.subplot(1,2,1)\n",
    "sns.boxplot(y = plu2['A.1'], orient = 'v')\n",
    "plt.axhline(plu2['A.1'].mean(), color = 'red')\n",
    "plt.xlabel('A.1')\n",
    "plt.ylabel('mm acumulados')\n",
    "plt.subplot(1,2,2)\n",
    "#plt.boxplot\n",
    "#plt.boxplot( plu2['A.1'])\n",
    "plt.show()\n"
   ]
  },
  {
   "cell_type": "markdown",
   "id": "515a235f",
   "metadata": {},
   "source": [
    "A continuació es graficarà la comparació de la pluviometria entre tots dos mesos des del 1787 fins al 2021 per veure si a simple vista hi ha algun tipus de relació."
   ]
  },
  {
   "cell_type": "code",
   "execution_count": 52,
   "id": "063d8229",
   "metadata": {
    "scrolled": true
   },
   "outputs": [
    {
     "data": {
      "image/png": "[encoded data removed]",
      "text/plain": [
       "<Figure size 1080x288 with 1 Axes>"
      ]
     },
     "metadata": {},
     "output_type": "display_data"
    }
   ],
   "source": [
    "sns.set()\n",
    "plt.figure(figsize=(15,4))\n",
    "plt.plot(plu2['ANY'], plu2['S'])\n",
    "plt.plot(plu2['ANY'], plu2['A.1'])\n",
    "plt.legend( ['Setembre', 'Agost'])\n",
    "plt.title('Pluviometria acumulada 1787-2021')\n",
    "plt.xlabel('Anys')\n",
    "plt.ylabel('mm de pluja acumulada')\n",
    "plt.show()"
   ]
  },
  {
   "cell_type": "markdown",
   "id": "aab4740a",
   "metadata": {},
   "source": [
    "Observant la gràfica de pluviometria acumulada sembla que en alguns anys hi hagi certa correlació d'anys plujosos. Presentant tots dos mesos al mateix any un pic de pluja, mentre que en altres anys sembla el contrari. Plovent molt al setembre i poc a l'agost.\n",
    "\n",
    "Per tant, es passarà a comprobar la correlació entre totes dues variables"
   ]
  },
  {
   "cell_type": "markdown",
   "id": "8a1a1b9f",
   "metadata": {},
   "source": [
    "## Exercici 2\n",
    "\n",
    "Continuant amb les dades de tema esportiu, selecciona dos atributs i calcula'n la seva correlació. \n",
    "\n",
    "Per mesurar la correlació entre les dues variables s'utilitzarà la correlació de Pearson."
   ]
  },
  {
   "cell_type": "code",
   "execution_count": 28,
   "id": "dd811bd9",
   "metadata": {},
   "outputs": [
    {
     "data": {
      "text/plain": [
       "array([[ 1.       , -0.0278762],\n",
       "       [-0.0278762,  1.       ]])"
      ]
     },
     "execution_count": 28,
     "metadata": {},
     "output_type": "execute_result"
    }
   ],
   "source": [
    "np.corrcoef(plu2['S'], plu2['A.1'])"
   ]
  },
  {
   "cell_type": "markdown",
   "id": "ee49fbae",
   "metadata": {
    "scrolled": true
   },
   "source": [
    "Com era d'esperar no hi ha relació entre la pluviometria d'un mes i el següent. Igualment, es calcularà el p-valor per confirmar si estadísticament es significatiu el resultat obtingut.\n",
    "\n"
   ]
  },
  {
   "cell_type": "code",
   "execution_count": 29,
   "id": "84c376be",
   "metadata": {},
   "outputs": [
    {
     "data": {
      "text/plain": [
       "array([[1.        , 0.98783893, 0.98900315, ..., 0.9886288 , 0.9904756 ,\n",
       "        0.99226269],\n",
       "       [0.98783893, 1.        , 0.99187506, ..., 0.99161115, 0.98387148,\n",
       "        0.99398577],\n",
       "       [0.98900315, 0.99187506, 1.        , ..., 0.99788219, 0.98990905,\n",
       "        0.99749053],\n",
       "       ...,\n",
       "       [0.9886288 , 0.99161115, 0.99788219, ..., 1.        , 0.98904104,\n",
       "        0.99634395],\n",
       "       [0.9904756 , 0.98387148, 0.98990905, ..., 0.98904104, 1.        ,\n",
       "        0.99414612],\n",
       "       [0.99226269, 0.99398577, 0.99749053, ..., 0.99634395, 0.99414612,\n",
       "        1.        ]])"
      ]
     },
     "execution_count": 29,
     "metadata": {},
     "output_type": "execute_result"
    }
   ],
   "source": [
    "np.corrcoef(plu2)"
   ]
  },
  {
   "cell_type": "code",
   "execution_count": 30,
   "id": "c674a29b",
   "metadata": {},
   "outputs": [
    {
     "data": {
      "text/plain": [
       "(-0.027876202981014366, 0.6707360051132218)"
      ]
     },
     "execution_count": 30,
     "metadata": {},
     "output_type": "execute_result"
    }
   ],
   "source": [
    "import scipy.stats.stats as scp\n",
    "scp.pearsonr(plu2['S'], plu2['A.1'])"
   ]
  },
  {
   "cell_type": "markdown",
   "id": "a9f930da",
   "metadata": {},
   "source": [
    "Com era d'esperar p-valor > 0.05 i per tant no hi ha correlació entre les dues variables.\n",
    "\n",
    "Igualment, es pot comprobar si hi ha alguna correlació entre totes les variables."
   ]
  },
  {
   "cell_type": "code",
   "execution_count": 34,
   "id": "c80e9872",
   "metadata": {},
   "outputs": [
    {
     "data": {
      "text/html": [
       "<div>\n",
       "<style scoped>\n",
       "    .dataframe tbody tr th:only-of-type {\n",
       "        vertical-align: middle;\n",
       "    }\n",
       "\n",
       "    .dataframe tbody tr th {\n",
       "        vertical-align: top;\n",
       "    }\n",
       "\n",
       "    .dataframe thead th {\n",
       "        text-align: right;\n",
       "    }\n",
       "</style>\n",
       "<table border=\"1\" class=\"dataframe\">\n",
       "  <thead>\n",
       "    <tr style=\"text-align: right;\">\n",
       "      <th></th>\n",
       "      <th>ANY</th>\n",
       "      <th>G</th>\n",
       "      <th>F</th>\n",
       "      <th>M</th>\n",
       "      <th>A</th>\n",
       "      <th>M.1</th>\n",
       "      <th>J</th>\n",
       "      <th>J.1</th>\n",
       "      <th>A.1</th>\n",
       "      <th>S</th>\n",
       "      <th>O</th>\n",
       "      <th>N</th>\n",
       "      <th>D</th>\n",
       "    </tr>\n",
       "  </thead>\n",
       "  <tbody>\n",
       "    <tr>\n",
       "      <th>ANY</th>\n",
       "      <td>1.000000</td>\n",
       "      <td>0.074246</td>\n",
       "      <td>0.123966</td>\n",
       "      <td>0.087133</td>\n",
       "      <td>0.087848</td>\n",
       "      <td>0.063984</td>\n",
       "      <td>-0.015843</td>\n",
       "      <td>0.083027</td>\n",
       "      <td>0.112058</td>\n",
       "      <td>-0.093704</td>\n",
       "      <td>0.076165</td>\n",
       "      <td>0.074942</td>\n",
       "      <td>0.086876</td>\n",
       "    </tr>\n",
       "    <tr>\n",
       "      <th>G</th>\n",
       "      <td>0.074246</td>\n",
       "      <td>1.000000</td>\n",
       "      <td>-0.058876</td>\n",
       "      <td>-0.004380</td>\n",
       "      <td>0.027696</td>\n",
       "      <td>-0.113279</td>\n",
       "      <td>0.043095</td>\n",
       "      <td>-0.041129</td>\n",
       "      <td>-0.100757</td>\n",
       "      <td>-0.067104</td>\n",
       "      <td>-0.009273</td>\n",
       "      <td>-0.039656</td>\n",
       "      <td>0.017917</td>\n",
       "    </tr>\n",
       "    <tr>\n",
       "      <th>F</th>\n",
       "      <td>0.123966</td>\n",
       "      <td>-0.058876</td>\n",
       "      <td>1.000000</td>\n",
       "      <td>0.086439</td>\n",
       "      <td>-0.020271</td>\n",
       "      <td>-0.014027</td>\n",
       "      <td>-0.100110</td>\n",
       "      <td>-0.031651</td>\n",
       "      <td>0.130101</td>\n",
       "      <td>0.029144</td>\n",
       "      <td>0.031882</td>\n",
       "      <td>0.046234</td>\n",
       "      <td>0.057895</td>\n",
       "    </tr>\n",
       "    <tr>\n",
       "      <th>M</th>\n",
       "      <td>0.087133</td>\n",
       "      <td>-0.004380</td>\n",
       "      <td>0.086439</td>\n",
       "      <td>1.000000</td>\n",
       "      <td>0.033631</td>\n",
       "      <td>0.198387</td>\n",
       "      <td>0.060085</td>\n",
       "      <td>-0.008769</td>\n",
       "      <td>-0.040564</td>\n",
       "      <td>-0.040159</td>\n",
       "      <td>0.141864</td>\n",
       "      <td>0.184913</td>\n",
       "      <td>-0.070359</td>\n",
       "    </tr>\n",
       "    <tr>\n",
       "      <th>A</th>\n",
       "      <td>0.087848</td>\n",
       "      <td>0.027696</td>\n",
       "      <td>-0.020271</td>\n",
       "      <td>0.033631</td>\n",
       "      <td>1.000000</td>\n",
       "      <td>-0.072433</td>\n",
       "      <td>0.008543</td>\n",
       "      <td>-0.051666</td>\n",
       "      <td>-0.047527</td>\n",
       "      <td>-0.019449</td>\n",
       "      <td>-0.064397</td>\n",
       "      <td>-0.042398</td>\n",
       "      <td>-0.014994</td>\n",
       "    </tr>\n",
       "    <tr>\n",
       "      <th>M.1</th>\n",
       "      <td>0.063984</td>\n",
       "      <td>-0.113279</td>\n",
       "      <td>-0.014027</td>\n",
       "      <td>0.198387</td>\n",
       "      <td>-0.072433</td>\n",
       "      <td>1.000000</td>\n",
       "      <td>0.082682</td>\n",
       "      <td>0.032564</td>\n",
       "      <td>0.062748</td>\n",
       "      <td>-0.041115</td>\n",
       "      <td>0.086900</td>\n",
       "      <td>0.125553</td>\n",
       "      <td>0.012343</td>\n",
       "    </tr>\n",
       "    <tr>\n",
       "      <th>J</th>\n",
       "      <td>-0.015843</td>\n",
       "      <td>0.043095</td>\n",
       "      <td>-0.100110</td>\n",
       "      <td>0.060085</td>\n",
       "      <td>0.008543</td>\n",
       "      <td>0.082682</td>\n",
       "      <td>1.000000</td>\n",
       "      <td>0.183205</td>\n",
       "      <td>-0.116070</td>\n",
       "      <td>0.095253</td>\n",
       "      <td>-0.032830</td>\n",
       "      <td>-0.027074</td>\n",
       "      <td>0.046293</td>\n",
       "    </tr>\n",
       "    <tr>\n",
       "      <th>J.1</th>\n",
       "      <td>0.083027</td>\n",
       "      <td>-0.041129</td>\n",
       "      <td>-0.031651</td>\n",
       "      <td>-0.008769</td>\n",
       "      <td>-0.051666</td>\n",
       "      <td>0.032564</td>\n",
       "      <td>0.183205</td>\n",
       "      <td>1.000000</td>\n",
       "      <td>0.042893</td>\n",
       "      <td>-0.027845</td>\n",
       "      <td>0.084285</td>\n",
       "      <td>0.025902</td>\n",
       "      <td>0.183262</td>\n",
       "    </tr>\n",
       "    <tr>\n",
       "      <th>A.1</th>\n",
       "      <td>0.112058</td>\n",
       "      <td>-0.100757</td>\n",
       "      <td>0.130101</td>\n",
       "      <td>-0.040564</td>\n",
       "      <td>-0.047527</td>\n",
       "      <td>0.062748</td>\n",
       "      <td>-0.116070</td>\n",
       "      <td>0.042893</td>\n",
       "      <td>1.000000</td>\n",
       "      <td>-0.027876</td>\n",
       "      <td>-0.122462</td>\n",
       "      <td>0.048766</td>\n",
       "      <td>-0.031636</td>\n",
       "    </tr>\n",
       "    <tr>\n",
       "      <th>S</th>\n",
       "      <td>-0.093704</td>\n",
       "      <td>-0.067104</td>\n",
       "      <td>0.029144</td>\n",
       "      <td>-0.040159</td>\n",
       "      <td>-0.019449</td>\n",
       "      <td>-0.041115</td>\n",
       "      <td>0.095253</td>\n",
       "      <td>-0.027845</td>\n",
       "      <td>-0.027876</td>\n",
       "      <td>1.000000</td>\n",
       "      <td>0.048396</td>\n",
       "      <td>-0.085442</td>\n",
       "      <td>-0.004241</td>\n",
       "    </tr>\n",
       "    <tr>\n",
       "      <th>O</th>\n",
       "      <td>0.076165</td>\n",
       "      <td>-0.009273</td>\n",
       "      <td>0.031882</td>\n",
       "      <td>0.141864</td>\n",
       "      <td>-0.064397</td>\n",
       "      <td>0.086900</td>\n",
       "      <td>-0.032830</td>\n",
       "      <td>0.084285</td>\n",
       "      <td>-0.122462</td>\n",
       "      <td>0.048396</td>\n",
       "      <td>1.000000</td>\n",
       "      <td>0.010378</td>\n",
       "      <td>0.026789</td>\n",
       "    </tr>\n",
       "    <tr>\n",
       "      <th>N</th>\n",
       "      <td>0.074942</td>\n",
       "      <td>-0.039656</td>\n",
       "      <td>0.046234</td>\n",
       "      <td>0.184913</td>\n",
       "      <td>-0.042398</td>\n",
       "      <td>0.125553</td>\n",
       "      <td>-0.027074</td>\n",
       "      <td>0.025902</td>\n",
       "      <td>0.048766</td>\n",
       "      <td>-0.085442</td>\n",
       "      <td>0.010378</td>\n",
       "      <td>1.000000</td>\n",
       "      <td>-0.023616</td>\n",
       "    </tr>\n",
       "    <tr>\n",
       "      <th>D</th>\n",
       "      <td>0.086876</td>\n",
       "      <td>0.017917</td>\n",
       "      <td>0.057895</td>\n",
       "      <td>-0.070359</td>\n",
       "      <td>-0.014994</td>\n",
       "      <td>0.012343</td>\n",
       "      <td>0.046293</td>\n",
       "      <td>0.183262</td>\n",
       "      <td>-0.031636</td>\n",
       "      <td>-0.004241</td>\n",
       "      <td>0.026789</td>\n",
       "      <td>-0.023616</td>\n",
       "      <td>1.000000</td>\n",
       "    </tr>\n",
       "  </tbody>\n",
       "</table>\n",
       "</div>"
      ],
      "text/plain": [
       "          ANY         G         F         M         A       M.1         J  \\\n",
       "ANY  1.000000  0.074246  0.123966  0.087133  0.087848  0.063984 -0.015843   \n",
       "G    0.074246  1.000000 -0.058876 -0.004380  0.027696 -0.113279  0.043095   \n",
       "F    0.123966 -0.058876  1.000000  0.086439 -0.020271 -0.014027 -0.100110   \n",
       "M    0.087133 -0.004380  0.086439  1.000000  0.033631  0.198387  0.060085   \n",
       "A    0.087848  0.027696 -0.020271  0.033631  1.000000 -0.072433  0.008543   \n",
       "M.1  0.063984 -0.113279 -0.014027  0.198387 -0.072433  1.000000  0.082682   \n",
       "J   -0.015843  0.043095 -0.100110  0.060085  0.008543  0.082682  1.000000   \n",
       "J.1  0.083027 -0.041129 -0.031651 -0.008769 -0.051666  0.032564  0.183205   \n",
       "A.1  0.112058 -0.100757  0.130101 -0.040564 -0.047527  0.062748 -0.116070   \n",
       "S   -0.093704 -0.067104  0.029144 -0.040159 -0.019449 -0.041115  0.095253   \n",
       "O    0.076165 -0.009273  0.031882  0.141864 -0.064397  0.086900 -0.032830   \n",
       "N    0.074942 -0.039656  0.046234  0.184913 -0.042398  0.125553 -0.027074   \n",
       "D    0.086876  0.017917  0.057895 -0.070359 -0.014994  0.012343  0.046293   \n",
       "\n",
       "          J.1       A.1         S         O         N         D  \n",
       "ANY  0.083027  0.112058 -0.093704  0.076165  0.074942  0.086876  \n",
       "G   -0.041129 -0.100757 -0.067104 -0.009273 -0.039656  0.017917  \n",
       "F   -0.031651  0.130101  0.029144  0.031882  0.046234  0.057895  \n",
       "M   -0.008769 -0.040564 -0.040159  0.141864  0.184913 -0.070359  \n",
       "A   -0.051666 -0.047527 -0.019449 -0.064397 -0.042398 -0.014994  \n",
       "M.1  0.032564  0.062748 -0.041115  0.086900  0.125553  0.012343  \n",
       "J    0.183205 -0.116070  0.095253 -0.032830 -0.027074  0.046293  \n",
       "J.1  1.000000  0.042893 -0.027845  0.084285  0.025902  0.183262  \n",
       "A.1  0.042893  1.000000 -0.027876 -0.122462  0.048766 -0.031636  \n",
       "S   -0.027845 -0.027876  1.000000  0.048396 -0.085442 -0.004241  \n",
       "O    0.084285 -0.122462  0.048396  1.000000  0.010378  0.026789  \n",
       "N    0.025902  0.048766 -0.085442  0.010378  1.000000 -0.023616  \n",
       "D    0.183262 -0.031636 -0.004241  0.026789 -0.023616  1.000000  "
      ]
     },
     "execution_count": 34,
     "metadata": {},
     "output_type": "execute_result"
    }
   ],
   "source": [
    "corMat = plu2.corr()#Correlation matrix\n",
    "corMat"
   ]
  },
  {
   "cell_type": "code",
   "execution_count": 38,
   "id": "f81a99d0",
   "metadata": {},
   "outputs": [
    {
     "data": {
      "image/png": "[encoded data removed]",
      "text/plain": [
       "<Figure size 1080x1080 with 2 Axes>"
      ]
     },
     "metadata": {},
     "output_type": "display_data"
    }
   ],
   "source": [
    "sns.set()\n",
    "plt.figure(figsize=(15,15))\n",
    "sns.heatmap(corMat.iloc[1:,1:], annot=True)\n",
    "plt.show()"
   ]
  },
  {
   "cell_type": "markdown",
   "id": "08fd4014",
   "metadata": {},
   "source": [
    "Igual que en la primera comparació, la resta de mesos presenten una correlació molt baixa entre ells. Per tant, sembla que no hi ha associació entre els diferents messos en relació a la pluja."
   ]
  },
  {
   "cell_type": "code",
   "execution_count": null,
   "id": "3a456195",
   "metadata": {},
   "outputs": [],
   "source": []
  }
 ],
 "metadata": {
  "kernelspec": {
   "display_name": "Python 3 (ipykernel)",
   "language": "python",
   "name": "python3"
  },
  "language_info": {
   "codemirror_mode": {
    "name": "ipython",
    "version": 3
   },
   "file_extension": ".py",
   "mimetype": "text/x-python",
   "name": "python",
   "nbconvert_exporter": "python",
   "pygments_lexer": "ipython3",
   "version": "3.9.7"
  }
 },
 "nbformat": 4,
 "nbformat_minor": 5
}
